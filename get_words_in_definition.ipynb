{
 "cells": [
  {
   "cell_type": "code",
   "execution_count": 1,
   "metadata": {
    "collapsed": true
   },
   "outputs": [],
   "source": [
    "import nltk\n",
    "from nltk.corpus import wordnet as wn\n",
    "\n",
    "wnids = [line.strip() for line in open('./data/our_wnids.txt')]\n",
    "syns_dict = dict([('n'+str(s.offset()).zfill(8), s) \n",
    "                  for s in list(wn.all_synsets('n'))])"
   ]
  },
  {
   "cell_type": "code",
   "execution_count": 2,
   "metadata": {
    "collapsed": false
   },
   "outputs": [
    {
     "name": "stdout",
     "output_type": "stream",
     "text": [
      "['a', 'separate', 'and', 'self-contained', 'entity']\n",
      "['a', 'tangible', 'and', 'visible', 'entity']\n",
      "['a', 'living', 'thing', 'that', 'has', '(', 'or', 'can', 'develop', ')', 'the', 'ability', 'to', 'act', 'or', 'function', 'independently']\n",
      "['organisms', '(', 'plants', 'and', 'animals', ')', 'that', 'live', 'at', 'or', 'near', 'the', 'bottom', 'of', 'a', 'sea']\n",
      "['(', 'biology', ')', 'the', 'basic', 'structural', 'and', 'functional', 'unit', 'of', 'all', 'organisms']\n",
      "['a', 'human', 'being']\n",
      "['a', 'living', 'organism', 'characterized', 'by', 'voluntary', 'movement']\n",
      "['(', 'botany', ')', 'a', 'living', 'organism', 'lacking', 'the', 'power', 'of', 'locomotion']\n",
      "['an', 'object', 'occurring', 'naturally']\n",
      "['a', 'particular', 'kind', 'or', 'species', 'of', 'matter', 'with', 'uniform', 'properties']\n",
      "['that', 'which', 'has', 'mass', 'and', 'occupies', 'space']\n"
     ]
    }
   ],
   "source": [
    "for i, wnid in enumerate(wnids):\n",
    "    definitions = syns_dict[wnid].definition().split('; ')\n",
    "    definition = definitions[0]\n",
    "    tokens = nltk.tokenize.word_tokenize(definition.lower())\n",
    "    print(tokens)\n",
    "\n",
    "    if i == 10:\n",
    "        break"
   ]
  },
  {
   "cell_type": "code",
   "execution_count": null,
   "metadata": {
    "collapsed": true
   },
   "outputs": [],
   "source": []
  }
 ],
 "metadata": {
  "kernelspec": {
   "display_name": "Python 3",
   "language": "python",
   "name": "python3"
  },
  "language_info": {
   "codemirror_mode": {
    "name": "ipython",
    "version": 3
   },
   "file_extension": ".py",
   "mimetype": "text/x-python",
   "name": "python",
   "nbconvert_exporter": "python",
   "pygments_lexer": "ipython3",
   "version": "3.6.0"
  }
 },
 "nbformat": 4,
 "nbformat_minor": 2
}
